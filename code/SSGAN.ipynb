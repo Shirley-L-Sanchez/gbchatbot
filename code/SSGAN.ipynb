{
  "nbformat": 4,
  "nbformat_minor": 0,
  "metadata": {
    "colab": {
      "name": "SSGAN.ipynb",
      "provenance": []
    },
    "kernelspec": {
      "name": "python3",
      "display_name": "Python 3"
    },
    "language_info": {
      "name": "python"
    },
    "accelerator": "GPU"
  },
  "cells": [
    {
      "cell_type": "markdown",
      "metadata": {
        "id": "HZ4tt57zYkhs"
      },
      "source": [
        "\n",
        "# MNIST functional API\n",
        "\n"
      ]
    },
    {
      "cell_type": "code",
      "metadata": {
        "id": "Eg2YCZDmXzxr"
      },
      "source": [
        "import numpy as np\n",
        "import tensorflow as tf\n",
        "from tensorflow import keras\n",
        "from tensorflow.keras import layers"
      ],
      "execution_count": null,
      "outputs": []
    },
    {
      "cell_type": "code",
      "metadata": {
        "id": "TxBXZXk3X5oW"
      },
      "source": [
        "inputs = keras.Input(shape=(784,))\n",
        "dense = layers.Dense(64, activation=\"relu\")\n",
        "x = dense(inputs)\n",
        "x = layers.Dense(64, activation=\"relu\")(x)\n",
        "outputs = layers.Dense(10)(x)\n",
        "model = keras.Model(inputs=inputs, outputs=outputs, name=\"mnist_model\")"
      ],
      "execution_count": null,
      "outputs": []
    },
    {
      "cell_type": "code",
      "metadata": {
        "colab": {
          "base_uri": "https://localhost:8080/"
        },
        "id": "QW71p89iYFmY",
        "outputId": "3b32e601-2871-4efc-fc0e-8525d111548b"
      },
      "source": [
        "model.summary()"
      ],
      "execution_count": null,
      "outputs": [
        {
          "output_type": "stream",
          "name": "stdout",
          "text": [
            "Model: \"mnist_model\"\n",
            "_________________________________________________________________\n",
            " Layer (type)                Output Shape              Param #   \n",
            "=================================================================\n",
            " input_1 (InputLayer)        [(None, 784)]             0         \n",
            "                                                                 \n",
            " dense (Dense)               (None, 64)                50240     \n",
            "                                                                 \n",
            " dense_1 (Dense)             (None, 64)                4160      \n",
            "                                                                 \n",
            " dense_2 (Dense)             (None, 10)                650       \n",
            "                                                                 \n",
            "=================================================================\n",
            "Total params: 55,050\n",
            "Trainable params: 55,050\n",
            "Non-trainable params: 0\n",
            "_________________________________________________________________\n"
          ]
        }
      ]
    },
    {
      "cell_type": "code",
      "metadata": {
        "colab": {
          "base_uri": "https://localhost:8080/"
        },
        "id": "ZY92bL0yYGfV",
        "outputId": "deff8fcf-86d5-416f-e7de-dc9e56e60b7f"
      },
      "source": [
        "(x_train, y_train), (x_test, y_test) = keras.datasets.mnist.load_data()\n",
        "x_train = x_train.reshape(60000, 784).astype(\"float32\") / 255\n",
        "x_test = x_test.reshape(10000, 784).astype(\"float32\") / 255\n",
        "model.compile(\n",
        "    loss=keras.losses.SparseCategoricalCrossentropy(from_logits=True),\n",
        "    optimizer=keras.optimizers.RMSprop(),\n",
        "    metrics=[\"accuracy\"],\n",
        ")"
      ],
      "execution_count": null,
      "outputs": [
        {
          "output_type": "stream",
          "name": "stdout",
          "text": [
            "Downloading data from https://storage.googleapis.com/tensorflow/tf-keras-datasets/mnist.npz\n",
            "11493376/11490434 [==============================] - 0s 0us/step\n",
            "11501568/11490434 [==============================] - 0s 0us/step\n"
          ]
        }
      ]
    },
    {
      "cell_type": "code",
      "metadata": {
        "colab": {
          "base_uri": "https://localhost:8080/"
        },
        "id": "D97vROHpYR-d",
        "outputId": "11123384-369e-462c-ed17-f1e94ea8fb31"
      },
      "source": [
        "history = model.fit(x_train, y_train, batch_size=64, epochs=2, validation_split=0.2)\n",
        "test_scores = model.evaluate(x_test, y_test, verbose=2)\n",
        "print(\"Test loss:\", test_scores[0])\n",
        "print(\"Test accuracy:\", test_scores[1])"
      ],
      "execution_count": null,
      "outputs": [
        {
          "output_type": "stream",
          "name": "stdout",
          "text": [
            "Epoch 1/2\n",
            "750/750 [==============================] - 4s 4ms/step - loss: 0.3414 - accuracy: 0.9024 - val_loss: 0.1930 - val_accuracy: 0.9419\n",
            "Epoch 2/2\n",
            "750/750 [==============================] - 3s 3ms/step - loss: 0.1645 - accuracy: 0.9505 - val_loss: 0.1389 - val_accuracy: 0.9590\n",
            "313/313 - 0s - loss: 0.1358 - accuracy: 0.9593 - 365ms/epoch - 1ms/step\n",
            "Test loss: 0.1358363926410675\n",
            "Test accuracy: 0.9592999815940857\n"
          ]
        }
      ]
    },
    {
      "cell_type": "markdown",
      "metadata": {
        "id": "QaXzjqVYYeph"
      },
      "source": [
        "# Multiple Outputs"
      ]
    },
    {
      "cell_type": "code",
      "metadata": {
        "colab": {
          "base_uri": "https://localhost:8080/"
        },
        "id": "b_039px6ZCpb",
        "outputId": "e551c6f9-471f-45c1-bc58-9b86852aba49"
      },
      "source": [
        "encoder_input = keras.Input(shape=(28, 28, 1), name=\"original_img\")\n",
        "x = layers.Conv2D(16, 3, activation=\"relu\")(encoder_input)\n",
        "x = layers.Conv2D(32, 3, activation=\"relu\")(x)\n",
        "x = layers.MaxPooling2D(3)(x)\n",
        "x = layers.Conv2D(32, 3, activation=\"relu\")(x)\n",
        "x = layers.Conv2D(16, 3, activation=\"relu\")(x)\n",
        "encoder_output = layers.GlobalMaxPooling2D()(x)\n",
        "\n",
        "encoder = keras.Model(encoder_input, encoder_output, name=\"encoder\")\n",
        "encoder.summary()\n",
        "\n",
        "decoder_input = keras.Input(shape=(16,), name=\"encoded_img\")\n",
        "x = layers.Reshape((4, 4, 1))(decoder_input)\n",
        "x = layers.Conv2DTranspose(16, 3, activation=\"relu\")(x)\n",
        "x = layers.Conv2DTranspose(32, 3, activation=\"relu\")(x)\n",
        "x = layers.UpSampling2D(3)(x)\n",
        "x = layers.Conv2DTranspose(16, 3, activation=\"relu\")(x)\n",
        "decoder_output = layers.Conv2DTranspose(1, 3, activation=\"relu\")(x)\n",
        "\n",
        "decoder = keras.Model(decoder_input, decoder_output, name=\"decoder\")\n",
        "decoder.summary()\n",
        "\n",
        "autoencoder_input = keras.Input(shape=(28, 28, 1), name=\"img\")\n",
        "encoded_img = encoder(autoencoder_input)\n",
        "decoded_img = decoder(encoded_img)\n",
        "autoencoder = keras.Model(autoencoder_input, decoded_img, name=\"autoencoder\")\n",
        "autoencoder.summary()"
      ],
      "execution_count": null,
      "outputs": [
        {
          "output_type": "stream",
          "name": "stdout",
          "text": [
            "Model: \"encoder\"\n",
            "_________________________________________________________________\n",
            " Layer (type)                Output Shape              Param #   \n",
            "=================================================================\n",
            " original_img (InputLayer)   [(None, 28, 28, 1)]       0         \n",
            "                                                                 \n",
            " conv2d_4 (Conv2D)           (None, 26, 26, 16)        160       \n",
            "                                                                 \n",
            " conv2d_5 (Conv2D)           (None, 24, 24, 32)        4640      \n",
            "                                                                 \n",
            " max_pooling2d_1 (MaxPooling  (None, 8, 8, 32)         0         \n",
            " 2D)                                                             \n",
            "                                                                 \n",
            " conv2d_6 (Conv2D)           (None, 6, 6, 32)          9248      \n",
            "                                                                 \n",
            " conv2d_7 (Conv2D)           (None, 4, 4, 16)          4624      \n",
            "                                                                 \n",
            " global_max_pooling2d_1 (Glo  (None, 16)               0         \n",
            " balMaxPooling2D)                                                \n",
            "                                                                 \n",
            "=================================================================\n",
            "Total params: 18,672\n",
            "Trainable params: 18,672\n",
            "Non-trainable params: 0\n",
            "_________________________________________________________________\n",
            "Model: \"decoder\"\n",
            "_________________________________________________________________\n",
            " Layer (type)                Output Shape              Param #   \n",
            "=================================================================\n",
            " encoded_img (InputLayer)    [(None, 16)]              0         \n",
            "                                                                 \n",
            " reshape_1 (Reshape)         (None, 4, 4, 1)           0         \n",
            "                                                                 \n",
            " conv2d_transpose_4 (Conv2DT  (None, 6, 6, 16)         160       \n",
            " ranspose)                                                       \n",
            "                                                                 \n",
            " conv2d_transpose_5 (Conv2DT  (None, 8, 8, 32)         4640      \n",
            " ranspose)                                                       \n",
            "                                                                 \n",
            " up_sampling2d_1 (UpSampling  (None, 24, 24, 32)       0         \n",
            " 2D)                                                             \n",
            "                                                                 \n",
            " conv2d_transpose_6 (Conv2DT  (None, 26, 26, 16)       4624      \n",
            " ranspose)                                                       \n",
            "                                                                 \n",
            " conv2d_transpose_7 (Conv2DT  (None, 28, 28, 1)        145       \n",
            " ranspose)                                                       \n",
            "                                                                 \n",
            "=================================================================\n",
            "Total params: 9,569\n",
            "Trainable params: 9,569\n",
            "Non-trainable params: 0\n",
            "_________________________________________________________________\n",
            "Model: \"autoencoder\"\n",
            "_________________________________________________________________\n",
            " Layer (type)                Output Shape              Param #   \n",
            "=================================================================\n",
            " img (InputLayer)            [(None, 28, 28, 1)]       0         \n",
            "                                                                 \n",
            " encoder (Functional)        (None, 16)                18672     \n",
            "                                                                 \n",
            " decoder (Functional)        (None, 28, 28, 1)         9569      \n",
            "                                                                 \n",
            "=================================================================\n",
            "Total params: 28,241\n",
            "Trainable params: 28,241\n",
            "Non-trainable params: 0\n",
            "_________________________________________________________________\n"
          ]
        }
      ]
    },
    {
      "cell_type": "markdown",
      "metadata": {
        "id": "0JQ7XvvtfcEM"
      },
      "source": [
        "# Implementation SSGAN \n",
        "* https://github.com/KunalVaidya99/Semi-Supervised-GAN/blob/master/Semi_Supervised_GAN.ipynb\n",
        "* https://towardsdatascience.com/implementation-of-semi-supervised-generative-adversarial-networks-in-keras-195a1b2c3ea6"
      ]
    },
    {
      "cell_type": "code",
      "metadata": {
        "id": "scuHrD98ZD7U"
      },
      "source": [
        "import numpy as np\n",
        "import tensorflow as tf\n",
        "from tensorflow.keras.layers import Dense,Conv2D,Conv2DTranspose,Input,Reshape,Activation,Lambda\n",
        "from tensorflow.keras.layers import LeakyReLU\n",
        "from tensorflow.keras.optimizers import Adam\n",
        "from tensorflow.keras.layers import BatchNormalization,Dropout,Flatten\n",
        "from tensorflow.keras.datasets import mnist\n",
        "from tensorflow.keras.models import Sequential,Model\n",
        "import tensorflow.keras.backend as K\n",
        "import matplotlib.pyplot as plt\n",
        "\n",
        "img_rows = 28\n",
        "img_cols = 28\n",
        "channels = 1\n",
        " \n",
        "img_shape = (img_rows,img_cols,channels)\n",
        " \n",
        "z_dim = 100\n",
        "num_classes = 10"
      ],
      "execution_count": 1,
      "outputs": []
    },
    {
      "cell_type": "code",
      "metadata": {
        "colab": {
          "base_uri": "https://localhost:8080/",
          "height": 352
        },
        "id": "Y4UIt0-1aBGP",
        "outputId": "c8536791-284e-4da6-d05f-7c976ce1b52a"
      },
      "source": [
        "class Dataset:\n",
        "  def __init__(self,num_labeled,num_classes):\n",
        "    self.num_labeled = num_labeled\n",
        "    self.num_classes = num_classes\n",
        "    (self.x_train,self.y_train),(self.x_test,self.y_test) = mnist.load_data()      #loading mnist data\n",
        "  \n",
        "    def preprocess_image(x):\n",
        "      x = (x.astype(np.float32)-127.5)/127.5      #preprocessing images to [-1,1] \n",
        "      x = np.expand_dims(x,axis=-1)\n",
        "      return x\n",
        "  \n",
        "    def preprocess_labels(y):\n",
        "      return y.reshape((-1,1))\n",
        "\n",
        "    self.x_train = preprocess_image(self.x_train)\n",
        "    print(np.min(self.x_train))\n",
        "    self.y_train = preprocess_labels(self.y_train)\n",
        "    self.x_test = preprocess_image(self.x_test)\n",
        "    self.y_test = preprocess_labels(self.y_test)\n",
        " \n",
        "  def batch_labeled(self,batch_size):\n",
        " \n",
        "    sample_per_class = int(self.num_labeled/self.num_classes)\n",
        "    imgs = list()\n",
        "    labels = list()\n",
        "    for i in range(sample_per_class):\n",
        "      idx = self.y_train==i                             #getting indexes where y_train == i\n",
        "      idx = [i for i, x in enumerate(idx) if x]\n",
        "      x_classes= self.x_train[idx]\n",
        "      y_classes = self.y_train[idx]\n",
        "      #index = np.random.randint(0,x_classes.shape[0],sample_per_class)\n",
        "      index = np.arange(sample_per_class)\n",
        "      x_imgs = x_classes[index]                #taking 10 samples from the specific label \n",
        "      y_imgs = y_classes[index]\n",
        "      \n",
        "      #print(x_imgs.shape)\n",
        "      [imgs.append(x_imgs[j]) for j in index ]\n",
        "      [labels.append(y_imgs[j]) for j in range(num_classes)]\n",
        " \n",
        "    imgs = np.asarray(imgs)\n",
        "    labels = np.asarray(labels)\n",
        "    #print(labels)\n",
        " \n",
        "    ix  = np.random.randint(0,self.num_labeled,batch_size)\n",
        "    imgs = imgs[ix]\n",
        "    labels = labels[ix]\n",
        "    #print(labels.shape)\n",
        "    return imgs,labels\n",
        " \n",
        "  def batch_unlabeled(self,batch_size):\n",
        "    idx = np.random.randint(self.num_labeled,self.x_train.shape[0],batch_size)\n",
        "    imgs = self.x_train[idx]\n",
        "    return imgs\n",
        " \n",
        "  def training_set(self):\n",
        "     x_train = self.x_train[range(self.num_labeled)]  \n",
        "     y_train = self.y_train[range(self.num_labeled)]\n",
        "     return x_train ,y_train\n",
        "  def testing_set(self):\n",
        "    return self.x_test,self.y_test\n",
        " \n",
        "num_labeled = 100\n",
        "num_classes = 10\n",
        "dataset = Dataset(num_labeled,num_classes)\n",
        "i= dataset.batch_unlabeled(32)\n",
        "plt.imshow(i[0,:,:,0],cmap='gray')"
      ],
      "execution_count": 2,
      "outputs": [
        {
          "output_type": "stream",
          "name": "stdout",
          "text": [
            "Downloading data from https://storage.googleapis.com/tensorflow/tf-keras-datasets/mnist.npz\n",
            "11493376/11490434 [==============================] - 0s 0us/step\n",
            "11501568/11490434 [==============================] - 0s 0us/step\n",
            "-1.0\n"
          ]
        },
        {
          "output_type": "execute_result",
          "data": {
            "text/plain": [
              "<matplotlib.image.AxesImage at 0x7f036f9968d0>"
            ]
          },
          "metadata": {},
          "execution_count": 2
        },
        {
          "output_type": "display_data",
          "data": {
            "image/png": "[encoded data removed]",
            "text/plain": [
              "<Figure size 432x288 with 1 Axes>"
            ]
          },
          "metadata": {
            "needs_background": "light"
          }
        }
      ]
    },
    {
      "cell_type": "code",
      "metadata": {
        "id": "atgvA2BAamBj"
      },
      "source": [
        "def build_generator(z_dim):\n",
        "  model = Sequential()\n",
        "  model.add(Dense(256*7*7,input_dim=z_dim))\n",
        "  model.add(Reshape((7,7,256)))\n",
        "  model.add(Conv2DTranspose(128,kernel_size=3,strides=2,padding='same'))\n",
        "  model.add(BatchNormalization())\n",
        "  model.add(LeakyReLU(alpha=0.01))\n",
        "  model.add(Conv2DTranspose(64,kernel_size=3,strides=1,padding='same'))\n",
        "  model.add(BatchNormalization())\n",
        "  model.add(LeakyReLU(alpha=0.01))\n",
        "  model.add(Conv2DTranspose(1,kernel_size=(3,3),strides=2,padding='same',activation='tanh'))\n",
        "  ## using tanh activation gives better images\n",
        "\n",
        "  return model"
      ],
      "execution_count": 3,
      "outputs": []
    },
    {
      "cell_type": "code",
      "metadata": {
        "colab": {
          "base_uri": "https://localhost:8080/"
        },
        "id": "op1Zg6YDbCwN",
        "outputId": "046a4482-8854-48fd-dc0e-3aada9c5029c"
      },
      "source": [
        "build_generator(100).summary()"
      ],
      "execution_count": 4,
      "outputs": [
        {
          "output_type": "stream",
          "name": "stdout",
          "text": [
            "Model: \"sequential\"\n",
            "_________________________________________________________________\n",
            " Layer (type)                Output Shape              Param #   \n",
            "=================================================================\n",
            " dense (Dense)               (None, 12544)             1266944   \n",
            "                                                                 \n",
            " reshape (Reshape)           (None, 7, 7, 256)         0         \n",
            "                                                                 \n",
            " conv2d_transpose (Conv2DTra  (None, 14, 14, 128)      295040    \n",
            " nspose)                                                         \n",
            "                                                                 \n",
            " batch_normalization (BatchN  (None, 14, 14, 128)      512       \n",
            " ormalization)                                                   \n",
            "                                                                 \n",
            " leaky_re_lu (LeakyReLU)     (None, 14, 14, 128)       0         \n",
            "                                                                 \n",
            " conv2d_transpose_1 (Conv2DT  (None, 14, 14, 64)       73792     \n",
            " ranspose)                                                       \n",
            "                                                                 \n",
            " batch_normalization_1 (Batc  (None, 14, 14, 64)       256       \n",
            " hNormalization)                                                 \n",
            "                                                                 \n",
            " leaky_re_lu_1 (LeakyReLU)   (None, 14, 14, 64)        0         \n",
            "                                                                 \n",
            " conv2d_transpose_2 (Conv2DT  (None, 28, 28, 1)        577       \n",
            " ranspose)                                                       \n",
            "                                                                 \n",
            "=================================================================\n",
            "Total params: 1,637,121\n",
            "Trainable params: 1,636,737\n",
            "Non-trainable params: 384\n",
            "_________________________________________________________________\n"
          ]
        }
      ]
    },
    {
      "cell_type": "code",
      "metadata": {
        "id": "sp-pSf2fbHgs"
      },
      "source": [
        "def build_discriminator(img_shape):\n",
        "  inp = Input(shape=img_shape)\n",
        "\n",
        "  X = Conv2D(32,kernel_size=(3,3),strides=2,input_shape=img_shape,padding='same')(inp)\n",
        "  X = LeakyReLU(alpha=0.01)(X)\n",
        "  X = Conv2D(64,kernel_size=(3,3),strides=2,padding='same')(X)\n",
        "  X = BatchNormalization()(X)\n",
        "  X = LeakyReLU(alpha=0.01)(X)\n",
        "  X = Conv2D(128,kernel_size=(3,3),strides=2,padding='same')(X)\n",
        "  X = BatchNormalization()(X)\n",
        "  X = LeakyReLU(alpha=0.01)(X)\n",
        "\n",
        "  \n",
        "  X = Flatten(name=\"flatten\")(X)\n",
        "  X = Dropout(0.5)(X)\n",
        "  X = Dense(num_classes)(X)\n",
        "  model = Model(inputs=inp,outputs=X)\n",
        "  return model\n",
        "\n",
        "  def build_discriminator_supervised(discriminator):\n",
        "    model = Sequential()\n",
        "    model.add(discriminator)\n",
        "    model.add(Activation('softmax'))\n",
        "    return model"
      ],
      "execution_count": 5,
      "outputs": []
    },
    {
      "cell_type": "code",
      "metadata": {
        "id": "HgN4EWD0bdQZ"
      },
      "source": [
        "def build_discriminator_supervised(discriminator):\n",
        "  model = Sequential()\n",
        "  model.add(discriminator)\n",
        "  model.add(Activation('softmax'))\n",
        "  return model\n",
        "\n",
        "\n",
        "def build_discriminator_unsupervised(discriminator):\n",
        "  model = Sequential()\n",
        "  model.add(discriminator)\n",
        "  def custom_activation(x):\n",
        "        \n",
        "    prediction = 1.0 - (1.0 /\n",
        "                           (K.sum(K.exp(x), axis=-1, keepdims=True) + 1.0))\n",
        "    return prediction\n",
        "  model.add(Lambda(custom_activation))\n",
        "  \n",
        "  return model\n",
        "\n",
        "def build_gan(generator,discriminator):\n",
        "  model = Sequential()\n",
        "  model.add(generator)\n",
        "  model.add(discriminator)\n",
        "  return model"
      ],
      "execution_count": 6,
      "outputs": []
    },
    {
      "cell_type": "code",
      "metadata": {
        "id": "M_NH8UQqcdi3"
      },
      "source": [
        "discriminator = build_discriminator(img_shape)\n",
        "discriminator_supervised = build_discriminator_supervised(discriminator)\n",
        "discriminator_supervised.compile(optimizer= Adam(learning_rate=0.001),loss=\"categorical_crossentropy\",metrics=['accuracy'])\n",
        "discriminator_unsupervised = build_discriminator_unsupervised(discriminator)\n",
        "discriminator_unsupervised.compile(optimizer = Adam(learning_rate=0.001),loss='binary_crossentropy',metrics=['accuracy'])\n",
        "generator = build_generator(z_dim)\n",
        "discriminator_unsupervised.trainable = False\n",
        "gan = build_gan(generator,discriminator_unsupervised)\n",
        "gan.compile(optimizer=Adam(learning_rate=0.001),loss='binary_crossentropy',metrics=['accuracy'])"
      ],
      "execution_count": 7,
      "outputs": []
    },
    {
      "cell_type": "code",
      "metadata": {
        "id": "fWSHtMDkdSyF"
      },
      "source": [
        "supervised_losses = []\n",
        "iteration_checkpoints = []\n",
        "accuracies = []\n",
        "val_losses = []\n",
        "\n",
        "from tensorflow.keras.utils import to_categorical\n",
        "x_test,y_test = dataset.testing_set()\n",
        "y_test = to_categorical(y_test,num_classes)\n",
        "\n",
        "def train(iterations,batch_size,sample_interval):\n",
        "\n",
        "  real = np.ones((batch_size,1))\n",
        "  fake = np.zeros((batch_size,1))\n",
        "\n",
        "  for iteration in range(iterations):\n",
        "    imgs,labels = dataset.batch_labeled(batch_size)\n",
        "    \n",
        "    #print(labels)\n",
        "    labels = to_categorical(labels,num_classes=num_classes)\n",
        "\n",
        "    unlabeled_imgs = dataset.batch_unlabeled(batch_size)\n",
        "\n",
        "    z = np.random.normal(0,1,(batch_size,z_dim))\n",
        "    \n",
        "    fake_imgs = generator.predict(z)\n",
        "    #print(fake_imgs.shape)\n",
        "\n",
        "    d_supervised_loss,accuracy = discriminator_supervised.train_on_batch(imgs,labels)\n",
        "    d_unsupervised_loss_real = discriminator_unsupervised.train_on_batch(unlabeled_imgs,real)\n",
        "    d_unsupervised_loss_fake = discriminator_unsupervised.train_on_batch(fake_imgs,fake)\n",
        "    d_unsupervised_loss = 0.5*np.add(d_unsupervised_loss_real,d_unsupervised_loss_fake)\n",
        "\n",
        "    z = np.random.normal(0,1,(batch_size,z_dim))\n",
        "    fake_imgs = generator.predict(z)\n",
        "    generator_loss = gan.train_on_batch(z,real)\n",
        "\n",
        "    \n",
        "    if(iteration+1) % sample_interval ==0:\n",
        "      supervised_losses.append(d_supervised_loss)\n",
        "      accuracies.append(100*accuracy)\n",
        "      iteration_checkpoints.append(iteration+1)\n",
        "      val_loss = discriminator_supervised.evaluate(x=x_test,y=y_test,verbose=0)\n",
        "      val_losses.append(val_loss[0])\n",
        "      print(\"Iteration No.:\",iteration+1,end=\",\")\n",
        "      print(\"Discriminator Supervised Loss:\",d_supervised_loss,end=',')\n",
        "      print('Generator Loss:',generator_loss,end=\",\")\n",
        "      print('Discriminator Unsuperived Loss:',d_unsupervised_loss,sep=',')\n",
        "      print('val_loss:',val_loss,sep=',')\n",
        "      print('Accuracy Supervised:',100*accuracy)\n",
        "      #sample_images(generator)"
      ],
      "execution_count": 10,
      "outputs": []
    },
    {
      "cell_type": "code",
      "metadata": {
        "colab": {
          "base_uri": "https://localhost:8080/"
        },
        "id": "rmoDJdXNeFaL",
        "outputId": "074ca2ba-3da8-4055-85ca-2c4c4d70932f"
      },
      "source": [
        "iterations = 6000\n",
        "batch_size = 32\n",
        "sample_interval = 100\n",
        "train(iterations,batch_size,sample_interval)"
      ],
      "execution_count": null,
      "outputs": [
        {
          "output_type": "stream",
          "name": "stdout",
          "text": [
            "Iteration No.: 100,Discriminator Supervised Loss: 0.002665058709681034,Generator Loss: [0.052548736333847046, 1.0],Discriminator Unsuperived Loss:,[6.79806035e-04 1.00000000e+00]\n",
            "val_loss:,[1.190253734588623, 0.6676999926567078]\n",
            "Accuracy Supervised: 100.0\n"
          ]
        }
      ]
    }
  ]
}